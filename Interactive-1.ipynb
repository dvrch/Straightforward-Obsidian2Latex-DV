{
 "cells": [
  {
   "cell_type": "markdown",
   "metadata": {},
   "source": [
    "Connecté à Python 3.12.3"
   ]
  },
  {
   "cell_type": "code",
   "execution_count": 2,
   "id": "8244e88c-64da-41b1-a3e2-c0a07dc1261d",
   "metadata": {},
   "outputs": [
    {
     "ename": "NameError",
     "evalue": "name 'resultats' is not defined",
     "output_type": "error",
     "traceback": [
      "\u001b[1;31m---------------------------------------------------------------------------\u001b[0m",
      "\u001b[1;31mNameError\u001b[0m                                 Traceback (most recent call last)",
      "Cell \u001b[1;32mIn[2], line 1\u001b[0m\n\u001b[1;32m----> 1\u001b[0m \u001b[38;5;28mprint\u001b[39m(\u001b[43mresultats\u001b[49m)\n",
      "\u001b[1;31mNameError\u001b[0m: name 'resultats' is not defined"
     ]
    }
   ],
   "source": [
    "print(resultats)"
   ]
  },
  {
   "cell_type": "code",
   "execution_count": null,
   "metadata": {},
   "outputs": [],
   "source": [
    "import yaml\n",
    "\n",
    "path_list_DV = [\n",
    "    \"vaut\", \"✍Writ\", \"👨‍💻Aut\", \"le_block.md\", \"quation_bl*ingle.md\",\n",
    "    \"uation blocks\", \"table blocks\", \"noT_DELETE__note\", r\"BIBT.*\\.bib\"\n",
    "]\n",
    "\n",
    "with open(\"fl.yaml\", \"w\", encoding=\"utf-8\") as f:\n",
    "    yaml.dump(path_list_DV, f, allow_unicode=True)\n",
    "\n"
   ]
  },
  {
   "cell_type": "code",
   "execution_count": null,
   "metadata": {},
   "outputs": [],
   "source": [
    "import yaml\n",
    "\n",
    "with open(\"fl.yaml\", \"r\", encoding=\"utf-8\") as f:\n",
    "    motifs = yaml.safe_load(f)\n",
    "\n"
   ]
  },
  {
   "cell_type": "code",
   "execution_count": null,
   "metadata": {},
   "outputs": [
    {
     "ename": "NameError",
     "evalue": "name 'recherche_motif' is not defined",
     "output_type": "error",
     "traceback": [
      "\u001b[1;31m---------------------------------------------------------------------------\u001b[0m",
      "\u001b[1;31mNameError\u001b[0m                                 Traceback (most recent call last)",
      "Cell \u001b[1;32mIn[4], line 1\u001b[0m\n\u001b[1;32m----> 1\u001b[0m resultats \u001b[39m=\u001b[39m [recherche_motif(racine, motif) \u001b[39mfor\u001b[39;00m motif \u001b[39min\u001b[39;00m motifs]\n",
      "\u001b[1;31mNameError\u001b[0m: name 'recherche_motif' is not defined"
     ]
    }
   ],
   "source": [
    "resultats = [recherche_motif(racine, motif) for motif in motifs]\n",
    "\n"
   ]
  },
  {
   "cell_type": "code",
   "execution_count": null,
   "metadata": {},
   "outputs": [],
   "source": [
    "import os, re\n",
    "from pathlib import Path\n",
    "\n",
    "def recherche_motif(racine, motif, d_abord='dossier'):\n",
    "    \"\"\"\n",
    "    racine : dossier de départ (Path ou str)\n",
    "    motif : motif regex (str)\n",
    "    d_abord : 'dossier' ou 'fichier' (précise où chercher en priorité)\n",
    "    \"\"\"\n",
    "    regex = re.compile(motif, re.I)\n",
    "    matches = []\n",
    "    for dossier, sous_dossiers, fichiers in os.walk(racine):\n",
    "        # Dossiers d'abord\n",
    "        if d_abord == 'dossier':\n",
    "            matches += [os.path.join(dossier, d) for d in sous_dossiers if regex.search(d)]\n",
    "            matches += [os.path.join(dossier, f) for f in fichiers if regex.search(f)]\n",
    "        # Fichiers d'abord\n",
    "        else:\n",
    "            matches += [os.path.join(dossier, f) for f in fichiers if regex.search(f)]\n",
    "            matches += [os.path.join(dossier, d) for d in sous_dossiers if regex.search(d)]\n",
    "    return matches\n",
    "\n"
   ]
  },
  {
   "cell_type": "code",
   "execution_count": null,
   "metadata": {},
   "outputs": [
    {
     "ename": "NameError",
     "evalue": "name 'racine' is not defined",
     "output_type": "error",
     "traceback": [
      "\u001b[1;31m---------------------------------------------------------------------------\u001b[0m",
      "\u001b[1;31mNameError\u001b[0m                                 Traceback (most recent call last)",
      "Cell \u001b[1;32mIn[6], line 1\u001b[0m\n\u001b[1;32m----> 1\u001b[0m resultats \u001b[39m=\u001b[39m [recherche_motif(racine, motif) \u001b[39mfor\u001b[39;00m motif \u001b[39min\u001b[39;00m motifs]\n",
      "\u001b[1;31mNameError\u001b[0m: name 'racine' is not defined"
     ]
    }
   ],
   "source": [
    "resultats = [recherche_motif(racine, motif) for motif in motifs]\n",
    "\n",
    "\n",
    "\n"
   ]
  },
  {
   "cell_type": "code",
   "execution_count": null,
   "metadata": {},
   "outputs": [
    {
     "name": "stdout",
     "output_type": "stream",
     "text": [
      "['C:\\\\Users\\\\dvrch\\\\Desktop\\\\Memoire 2024\\\\Straightforward-Obsidian2Latex\\\\Straightforward-Obsidian2Latex-main\\\\example_vault\\\\✍Writing\\\\BIBTEX.bib']\n"
     ]
    }
   ],
   "source": [
    "racine = Path(__file__).resolve().parent.parent\n",
    "motif = r\"BIBTEX.*\\.bib\"      # Cherche tout ce qui ressemble à 'BIBTEX.bib' (insensible à la casse)\n",
    "resultats = recherche_motif(racine, motif, d_abord='dossier')  # dossiers d'abord\n",
    "print(resultats)\n",
    "\n"
   ]
  },
  {
   "cell_type": "code",
   "execution_count": null,
   "metadata": {},
   "outputs": [],
   "source": [
    "resultats = [recherche_motif(racine, motif) for motif in motifs]\n",
    "\n",
    "\n",
    "\n",
    "\n",
    "\n"
   ]
  },
  {
   "cell_type": "code",
   "execution_count": null,
   "metadata": {},
   "outputs": [
    {
     "data": {
      "text/plain": [
       "[[],\n",
       " ['C:\\\\Users\\\\dvrch\\\\Desktop\\\\Memoire 2024\\\\Straightforward-Obsidian2Latex\\\\Straightforward-Obsidian2Latex-main\\\\example_vault\\\\✍Writing'],\n",
       " ['C:\\\\Users\\\\dvrch\\\\Desktop\\\\Memoire 2024\\\\Straightforward-Obsidian2Latex\\\\Straightforward-Obsidian2Latex-main\\\\example_vault\\\\👨\\u200d💻Automations'],\n",
       " [],\n",
       " [],\n",
       " ['C:\\\\Users\\\\dvrch\\\\Desktop\\\\Memoire 2024\\\\Straightforward-Obsidian2Latex\\\\Straightforward-Obsidian2Latex-main\\\\example_vault\\\\✍Writing\\\\equation blocks'],\n",
       " [],\n",
       " ['C:\\\\Users\\\\dvrch\\\\Desktop\\\\Memoire 2024\\\\Straightforward-Obsidian2Latex\\\\Straightforward-Obsidian2Latex-main\\\\example_vault\\\\DO_NOT_DELETE__note_paths.txt'],\n",
       " ['C:\\\\Users\\\\dvrch\\\\Desktop\\\\Memoire 2024\\\\Straightforward-Obsidian2Latex\\\\Straightforward-Obsidian2Latex-main\\\\example_vault\\\\✍Writing\\\\BIBTEX.bib']]"
      ]
     },
     "execution_count": 9,
     "metadata": {},
     "output_type": "execute_result"
    }
   ],
   "source": [
    "[recherche_motif(racine, motif) for motif in motifs]\n",
    "\n",
    "\n",
    "\n",
    "\n",
    "\n",
    "\n",
    "\n"
   ]
  },
  {
   "cell_type": "code",
   "execution_count": null,
   "metadata": {},
   "outputs": [
    {
     "ename": "SyntaxError",
     "evalue": "invalid syntax (<ipython-input-10-be64f0cec5b6>, line 1)",
     "output_type": "error",
     "traceback": [
      "\u001b[1;36m  Cell \u001b[1;32mIn[10], line 1\u001b[1;36m\u001b[0m\n\u001b[1;33m    recherche_motif(racine, motif) for motif in motifs\u001b[0m\n\u001b[1;37m                                   ^\u001b[0m\n\u001b[1;31mSyntaxError\u001b[0m\u001b[1;31m:\u001b[0m invalid syntax\n"
     ]
    }
   ],
   "source": [
    "recherche_motif(racine, motif) for motif in motifs\n",
    "\n",
    "\n",
    "\n",
    "\n",
    "\n",
    "\n",
    "\n",
    "\n",
    "\n"
   ]
  },
  {
   "cell_type": "code",
   "execution_count": null,
   "metadata": {},
   "outputs": [],
   "source": [
    "import yaml\n",
    "\n",
    "motifs_dict = {\n",
    "    \"valeur\": \"vaut\",\n",
    "    \"ecriture\": \"✍Writ\",\n",
    "    \"auteur\": \"👨‍💻Aut\",\n",
    "    \"bloc\": \"le_block.md\",\n",
    "    \"question\": \"quation_bl*ingle.md\",\n",
    "    \"blocks_uation\": \"uation blocks\",\n",
    "    \"blocks_table\": \"table blocks\",\n",
    "    \"note\": \"noT_DELETE__note\",\n",
    "    \"bibtex\": r\"BIBT.*\\.bib\"\n",
    "}\n",
    "\n",
    "with open(\"fl.yaml\", \"w\", encoding=\"utf-8\") as f:\n",
    "    yaml.dump(motifs_dict, f, allow_unicode=True)\n",
    "\n",
    "\n",
    "\n",
    "\n",
    "\n"
   ]
  },
  {
   "cell_type": "code",
   "execution_count": null,
   "metadata": {},
   "outputs": [
    {
     "name": "stdout",
     "output_type": "stream",
     "text": [
      "auteur 👨‍💻Aut\n",
      "bibtex BIBT.*\\.bib\n",
      "bloc le_block.md\n",
      "blocks_table table blocks\n",
      "blocks_uation uation blocks\n",
      "ecriture ✍Writ\n",
      "note noT_DELETE__note\n",
      "question quation_bl*ingle.md\n",
      "valeur vaut\n"
     ]
    }
   ],
   "source": [
    "import yaml\n",
    "\n",
    "with open(\"fl.yaml\", \"r\", encoding=\"utf-8\") as f:\n",
    "    motifs_dict = yaml.safe_load(f)\n",
    "\n",
    "# Pour itérer sur les motifs :\n",
    "for key, motif in motifs_dict.items():\n",
    "    print(key, motif)\n",
    "\n"
   ]
  },
  {
   "cell_type": "code",
   "execution_count": null,
   "metadata": {},
   "outputs": [
    {
     "name": "stdout",
     "output_type": "stream",
     "text": [
      "auteur :  👨‍💻Aut\n",
      "bibtex :  BIBT.*\\.bib\n",
      "bloc :  le_block.md\n",
      "blocks_table :  table blocks\n",
      "blocks_uation :  uation blocks\n",
      "ecriture :  ✍Writ\n",
      "note :  noT_DELETE__note\n",
      "question :  quation_bl*ingle.md\n",
      "valeur :  vaut\n"
     ]
    }
   ],
   "source": [
    "import yaml\n",
    "\n",
    "with open(\"fl.yaml\", \"r\", encoding=\"utf-8\") as f:\n",
    "    motifs_dict = yaml.safe_load(f)\n",
    "\n",
    "# Pour itérer sur les motifs :\n",
    "for key, motif in motifs_dict.items():\n",
    "    print(key,\": \", motif)\n",
    "\n"
   ]
  },
  {
   "cell_type": "code",
   "execution_count": null,
   "metadata": {},
   "outputs": [],
   "source": [
    "resultats = [recherche_motif(racine, motif) for motif in motifs_dict.values()]\n",
    "\n"
   ]
  },
  {
   "cell_type": "code",
   "execution_count": null,
   "metadata": {},
   "outputs": [
    {
     "data": {
      "text/plain": [
       "[['C:\\\\Users\\\\dvrch\\\\Desktop\\\\Memoire 2024\\\\Straightforward-Obsidian2Latex\\\\Straightforward-Obsidian2Latex-main\\\\example_vault\\\\👨\\u200d💻Automations'],\n",
       " ['C:\\\\Users\\\\dvrch\\\\Desktop\\\\Memoire 2024\\\\Straightforward-Obsidian2Latex\\\\Straightforward-Obsidian2Latex-main\\\\example_vault\\\\✍Writing\\\\BIBTEX.bib'],\n",
       " [],\n",
       " [],\n",
       " ['C:\\\\Users\\\\dvrch\\\\Desktop\\\\Memoire 2024\\\\Straightforward-Obsidian2Latex\\\\Straightforward-Obsidian2Latex-main\\\\example_vault\\\\✍Writing\\\\equation blocks'],\n",
       " ['C:\\\\Users\\\\dvrch\\\\Desktop\\\\Memoire 2024\\\\Straightforward-Obsidian2Latex\\\\Straightforward-Obsidian2Latex-main\\\\example_vault\\\\✍Writing'],\n",
       " ['C:\\\\Users\\\\dvrch\\\\Desktop\\\\Memoire 2024\\\\Straightforward-Obsidian2Latex\\\\Straightforward-Obsidian2Latex-main\\\\example_vault\\\\DO_NOT_DELETE__note_paths.txt'],\n",
       " [],\n",
       " []]"
      ]
     },
     "execution_count": 15,
     "metadata": {},
     "output_type": "execute_result"
    }
   ],
   "source": [
    "[recherche_motif(racine, motif) for motif in motifs_dict.values()]\n",
    "\n"
   ]
  },
  {
   "cell_type": "code",
   "execution_count": null,
   "metadata": {},
   "outputs": [],
   "source": [
    "resultats = [\n",
    "    f\"{i+1}-{cle}: {motif}\\n{chemins[0] if chemins else 'affich non trouvé'}\"\n",
    "    for i, (cle, motif) in enumerate(motifs_dict.items())\n",
    "    for chemins in [recherche_motif(racine, motif)]\n",
    "]\n",
    "\n"
   ]
  },
  {
   "cell_type": "code",
   "execution_count": null,
   "metadata": {},
   "outputs": [
    {
     "data": {
      "text/plain": [
       "['1-auteur: 👨\\u200d💻Aut\\nC:\\\\Users\\\\dvrch\\\\Desktop\\\\Memoire 2024\\\\Straightforward-Obsidian2Latex\\\\Straightforward-Obsidian2Latex-main\\\\example_vault\\\\👨\\u200d💻Automations',\n",
       " '2-bibtex: BIBT.*\\\\.bib\\nC:\\\\Users\\\\dvrch\\\\Desktop\\\\Memoire 2024\\\\Straightforward-Obsidian2Latex\\\\Straightforward-Obsidian2Latex-main\\\\example_vault\\\\✍Writing\\\\BIBTEX.bib',\n",
       " '3-bloc: le_block.md\\naffich non trouvé',\n",
       " '4-blocks_table: table blocks\\naffich non trouvé',\n",
       " '5-blocks_uation: uation blocks\\nC:\\\\Users\\\\dvrch\\\\Desktop\\\\Memoire 2024\\\\Straightforward-Obsidian2Latex\\\\Straightforward-Obsidian2Latex-main\\\\example_vault\\\\✍Writing\\\\equation blocks',\n",
       " '6-ecriture: ✍Writ\\nC:\\\\Users\\\\dvrch\\\\Desktop\\\\Memoire 2024\\\\Straightforward-Obsidian2Latex\\\\Straightforward-Obsidian2Latex-main\\\\example_vault\\\\✍Writing',\n",
       " '7-note: noT_DELETE__note\\nC:\\\\Users\\\\dvrch\\\\Desktop\\\\Memoire 2024\\\\Straightforward-Obsidian2Latex\\\\Straightforward-Obsidian2Latex-main\\\\example_vault\\\\DO_NOT_DELETE__note_paths.txt',\n",
       " '8-question: quation_bl*ingle.md\\naffich non trouvé',\n",
       " '9-valeur: vaut\\naffich non trouvé']"
      ]
     },
     "execution_count": 17,
     "metadata": {},
     "output_type": "execute_result"
    }
   ],
   "source": [
    " [\n",
    "    f\"{i+1}-{cle}: {motif}\\n{chemins[0] if chemins else 'affich non trouvé'}\"\n",
    "    for i, (cle, motif) in enumerate(motifs_dict.items())\n",
    "    for chemins in [recherche_motif(racine, motif)]\n",
    "]\n",
    "\n",
    "\n"
   ]
  },
  {
   "cell_type": "code",
   "execution_count": null,
   "metadata": {},
   "outputs": [],
   "source": [
    "# Lambda pour formater chaque ligne de tableau\n",
    "fmt = lambda n, cle, motif, chemin: f\"{str(n):<4} {cle:<12} {motif:<25} {chemin:<40}\"\n",
    "\n",
    "# Génération de la liste formatée\n",
    "resultats = [\n",
    "    fmt(\n",
    "        i+1, cle, motif,\n",
    "        (chemins := recherche_motif(racine, motif)) and chemins[0] or 'affich non trouvé'\n",
    "    )\n",
    "    for i, (cle, motif) in enumerate(motifs_dict.items())\n",
    "]\n",
    "\n"
   ]
  },
  {
   "cell_type": "code",
   "execution_count": null,
   "metadata": {},
   "outputs": [
    {
     "data": {
      "text/plain": [
       "['1    auteur       👨\\u200d💻Aut                    C:\\\\Users\\\\dvrch\\\\Desktop\\\\Memoire 2024\\\\Straightforward-Obsidian2Latex\\\\Straightforward-Obsidian2Latex-main\\\\example_vault\\\\👨\\u200d💻Automations',\n",
       " '2    bibtex       BIBT.*\\\\.bib               C:\\\\Users\\\\dvrch\\\\Desktop\\\\Memoire 2024\\\\Straightforward-Obsidian2Latex\\\\Straightforward-Obsidian2Latex-main\\\\example_vault\\\\✍Writing\\\\BIBTEX.bib',\n",
       " '3    bloc         le_block.md               affich non trouvé                       ',\n",
       " '4    blocks_table table blocks              affich non trouvé                       ',\n",
       " '5    blocks_uation uation blocks             C:\\\\Users\\\\dvrch\\\\Desktop\\\\Memoire 2024\\\\Straightforward-Obsidian2Latex\\\\Straightforward-Obsidian2Latex-main\\\\example_vault\\\\✍Writing\\\\equation blocks',\n",
       " '6    ecriture     ✍Writ                     C:\\\\Users\\\\dvrch\\\\Desktop\\\\Memoire 2024\\\\Straightforward-Obsidian2Latex\\\\Straightforward-Obsidian2Latex-main\\\\example_vault\\\\✍Writing',\n",
       " '7    note         noT_DELETE__note          C:\\\\Users\\\\dvrch\\\\Desktop\\\\Memoire 2024\\\\Straightforward-Obsidian2Latex\\\\Straightforward-Obsidian2Latex-main\\\\example_vault\\\\DO_NOT_DELETE__note_paths.txt',\n",
       " '8    question     quation_bl*ingle.md       affich non trouvé                       ',\n",
       " '9    valeur       vaut                      affich non trouvé                       ']"
      ]
     },
     "execution_count": 19,
     "metadata": {},
     "output_type": "execute_result"
    }
   ],
   "source": [
    "# Lambda pour formater chaque ligne de tableau\n",
    "fmt = lambda n, cle, motif, chemin: f\"{str(n):<4} {cle:<12} {motif:<25} {chemin:<40}\"\n",
    "\n",
    "# Génération de la liste formatée\n",
    "[\n",
    "\n",
    "    fmt(\n",
    "        i+1, cle, motif,\n",
    "        (chemins := recherche_motif(racine, motif)) and chemins[0] or 'affich non trouvé'\n",
    "    )\n",
    "    for i, (cle, motif) in enumerate(motifs_dict.items())\n",
    "]\n",
    "\n",
    "\n"
   ]
  },
  {
   "cell_type": "code",
   "execution_count": null,
   "metadata": {},
   "outputs": [],
   "source": [
    "fmt = lambda n, cle, motif, chemin: f\"{str(n):<4} {cle:<12} {motif:<25} {chemin:<40}\"\n",
    "\n",
    "# Génération du tableau avec en-tête et chemins encadrés de guillemets\n",
    "resultats = [\n",
    "    f\"{'N°':<4} {'Clé':<12} {'Motif recherché':<25} {'Chemin trouvé':<40}\",\n",
    "    '-' * 85,\n",
    "    *[\n",
    "        fmt(\n",
    "            i+1, cle, motif,\n",
    "            f'\"{chemins[0]}\"' if (chemins := recherche_motif(racine, motif)) else '\"affich non trouvé\"'\n",
    "        )\n",
    "        for i, (cle, motif) in enumerate(motifs_dict.items())\n",
    "    ]\n",
    "]\n",
    "\n"
   ]
  },
  {
   "cell_type": "code",
   "execution_count": null,
   "metadata": {},
   "outputs": [
    {
     "ename": "IndentationError",
     "evalue": "unexpected indent (<ipython-input-21-f94872cc6e03>, line 4)",
     "output_type": "error",
     "traceback": [
      "\u001b[1;36m  Cell \u001b[1;32mIn[21], line 4\u001b[1;36m\u001b[0m\n\u001b[1;33m    [\u001b[0m\n\u001b[1;37m    ^\u001b[0m\n\u001b[1;31mIndentationError\u001b[0m\u001b[1;31m:\u001b[0m unexpected indent\n"
     ]
    }
   ],
   "source": [
    "fmt = lambda n, cle, motif, chemin: f\"{str(n):<4} {cle:<12} {motif:<25} {chemin:<40}\"\n",
    "\n",
    "# Génération du tableau avec en-tête et chemins encadrés de guillemets\n",
    " [\n",
    "    f\"{'N°':<4} {'Clé':<12} {'Motif recherché':<25} {'Chemin trouvé':<40}\",\n",
    "    '-' * 85,\n",
    "    *[\n",
    "        fmt(\n",
    "            i+1, cle, motif,\n",
    "            f'\"{chemins[0]}\"' if (chemins := recherche_motif(racine, motif)) else '\"affich non trouvé\"'\n",
    "        )\n",
    "        for i, (cle, motif) in enumerate(motifs_dict.items())\n",
    "    ]\n",
    "]\n",
    "\n",
    "\n",
    "\n"
   ]
  },
  {
   "cell_type": "code",
   "execution_count": null,
   "metadata": {},
   "outputs": [
    {
     "data": {
      "text/plain": [
       "['N°   Clé          Motif recherché           Chemin trouvé                           ',\n",
       " '-------------------------------------------------------------------------------------',\n",
       " '1    auteur       👨\\u200d💻Aut                    \"C:\\\\Users\\\\dvrch\\\\Desktop\\\\Memoire 2024\\\\Straightforward-Obsidian2Latex\\\\Straightforward-Obsidian2Latex-main\\\\example_vault\\\\👨\\u200d💻Automations\"',\n",
       " '2    bibtex       BIBT.*\\\\.bib               \"C:\\\\Users\\\\dvrch\\\\Desktop\\\\Memoire 2024\\\\Straightforward-Obsidian2Latex\\\\Straightforward-Obsidian2Latex-main\\\\example_vault\\\\✍Writing\\\\BIBTEX.bib\"',\n",
       " '3    bloc         le_block.md               \"affich non trouvé\"                     ',\n",
       " '4    blocks_table table blocks              \"affich non trouvé\"                     ',\n",
       " '5    blocks_uation uation blocks             \"C:\\\\Users\\\\dvrch\\\\Desktop\\\\Memoire 2024\\\\Straightforward-Obsidian2Latex\\\\Straightforward-Obsidian2Latex-main\\\\example_vault\\\\✍Writing\\\\equation blocks\"',\n",
       " '6    ecriture     ✍Writ                     \"C:\\\\Users\\\\dvrch\\\\Desktop\\\\Memoire 2024\\\\Straightforward-Obsidian2Latex\\\\Straightforward-Obsidian2Latex-main\\\\example_vault\\\\✍Writing\"',\n",
       " '7    note         noT_DELETE__note          \"C:\\\\Users\\\\dvrch\\\\Desktop\\\\Memoire 2024\\\\Straightforward-Obsidian2Latex\\\\Straightforward-Obsidian2Latex-main\\\\example_vault\\\\DO_NOT_DELETE__note_paths.txt\"',\n",
       " '8    question     quation_bl*ingle.md       \"affich non trouvé\"                     ',\n",
       " '9    valeur       vaut                      \"affich non trouvé\"                     ']"
      ]
     },
     "execution_count": 22,
     "metadata": {},
     "output_type": "execute_result"
    }
   ],
   "source": [
    "fmt = lambda n, cle, motif, chemin: f\"{str(n):<4} {cle:<12} {motif:<25} {chemin:<40}\"\n",
    "\n",
    "# Génération du tableau avec en-tête et chemins encadrés de guillemets\n",
    "[\n",
    "    f\"{'N°':<4} {'Clé':<12} {'Motif recherché':<25} {'Chemin trouvé':<40}\",\n",
    "    '-' * 85,\n",
    "    *[\n",
    "        fmt(\n",
    "            i+1, cle, motif,\n",
    "            f'\"{chemins[0]}\"' if (chemins := recherche_motif(racine, motif)) else '\"affich non trouvé\"'\n",
    "        )\n",
    "        for i, (cle, motif) in enumerate(motifs_dict.items())\n",
    "    ]\n",
    "]\n",
    "\n",
    "\n",
    "\n"
   ]
  },
  {
   "cell_type": "code",
   "execution_count": null,
   "metadata": {},
   "outputs": [],
   "source": [
    "resultats = [\n",
    "    f\"{'N°':<4} {'Clé':<12} {'Motif recherché':<25} {'Chemin trouvé':<40}\",\n",
    "    '-' * 85,\n",
    "    *[\n",
    "        (lambda n, cle, motif, chemin:\n",
    "            f\"{str(n):<4} {cle:<12} {motif:<25} {chemin:<40}\"\n",
    "        )(\n",
    "            i+1, cle, motif,\n",
    "            f'\"{chemins[0]}\"' if (chemins := recherche_motif(racine, motif)) else '\"affich non trouvé\"'\n",
    "        )\n",
    "        for i, (cle, motif) in enumerate(motifs_dict.items())\n",
    "    ]\n",
    "]\n",
    "\n"
   ]
  },
  {
   "cell_type": "code",
   "execution_count": null,
   "metadata": {},
   "outputs": [],
   "source": [
    "resultats = [\n",
    "    f\"{'N°':<4} {'Clé':<12} {'Motif recherché':<25} {'Chemin trouvé':<40}\",\n",
    "    '-' * 85,\n",
    "    *[\n",
    "        f\"{i+1:<4} {cle:<12} {motif:<25} \"\n",
    "        f\"{f'\\\"{chemins[0]}\\\"' if (chemins := recherche_motif(racine, motif)) else '\\\"affich non trouvé\\\"':<40}\"\n",
    "        for i, (cle, motif) in enumerate(motifs_dict.items())\n",
    "    ]\n",
    "]\n",
    "\n",
    "\n"
   ]
  },
  {
   "cell_type": "code",
   "execution_count": null,
   "metadata": {},
   "outputs": [
    {
     "data": {
      "text/plain": [
       "['N°   Clé          Motif recherché           Chemin trouvé                           ',\n",
       " '-------------------------------------------------------------------------------------',\n",
       " '1    auteur       👨\\u200d💻Aut                    \"C:\\\\Users\\\\dvrch\\\\Desktop\\\\Memoire 2024\\\\Straightforward-Obsidian2Latex\\\\Straightforward-Obsidian2Latex-main\\\\example_vault\\\\👨\\u200d💻Automations\"',\n",
       " '2    bibtex       BIBT.*\\\\.bib               \"C:\\\\Users\\\\dvrch\\\\Desktop\\\\Memoire 2024\\\\Straightforward-Obsidian2Latex\\\\Straightforward-Obsidian2Latex-main\\\\example_vault\\\\✍Writing\\\\BIBTEX.bib\"',\n",
       " '3    bloc         le_block.md               \"affich non trouvé\"                     ',\n",
       " '4    blocks_table table blocks              \"affich non trouvé\"                     ',\n",
       " '5    blocks_uation uation blocks             \"C:\\\\Users\\\\dvrch\\\\Desktop\\\\Memoire 2024\\\\Straightforward-Obsidian2Latex\\\\Straightforward-Obsidian2Latex-main\\\\example_vault\\\\✍Writing\\\\equation blocks\"',\n",
       " '6    ecriture     ✍Writ                     \"C:\\\\Users\\\\dvrch\\\\Desktop\\\\Memoire 2024\\\\Straightforward-Obsidian2Latex\\\\Straightforward-Obsidian2Latex-main\\\\example_vault\\\\✍Writing\"',\n",
       " '7    note         noT_DELETE__note          \"C:\\\\Users\\\\dvrch\\\\Desktop\\\\Memoire 2024\\\\Straightforward-Obsidian2Latex\\\\Straightforward-Obsidian2Latex-main\\\\example_vault\\\\DO_NOT_DELETE__note_paths.txt\"',\n",
       " '8    question     quation_bl*ingle.md       \"affich non trouvé\"                     ',\n",
       " '9    valeur       vaut                      \"affich non trouvé\"                     ']"
      ]
     },
     "execution_count": 25,
     "metadata": {},
     "output_type": "execute_result"
    }
   ],
   "source": [
    "[\n",
    "    f\"{'N°':<4} {'Clé':<12} {'Motif recherché':<25} {'Chemin trouvé':<40}\",\n",
    "    '-' * 85,\n",
    "    *[\n",
    "        f\"{i+1:<4} {cle:<12} {motif:<25} \"\n",
    "        f\"{f'\\\"{chemins[0]}\\\"' if (chemins := recherche_motif(racine, motif)) else '\\\"affich non trouvé\\\"':<40}\"\n",
    "        for i, (cle, motif) in enumerate(motifs_dict.items())\n",
    "    ]\n",
    "]\n",
    "\n",
    "\n"
   ]
  },
  {
   "cell_type": "code",
   "execution_count": null,
   "metadata": {},
   "outputs": [
    {
     "data": {
      "text/plain": [
       "['N°   Clé          Motif recherché           Chemin trouvé                           ',\n",
       " '-------------------------------------------------------------------------------------',\n",
       " '1    auteur       👨\\u200d💻Aut                    \"C:\\\\Users\\\\dvrch\\\\Desktop\\\\Memoire 2024\\\\Straightforward-Obsidian2Latex\\\\Straightforward-Obsidian2Latex-main\\\\example_vault\\\\👨\\u200d💻Automations\"',\n",
       " '2    bibtex       BIBT.*\\\\.bib               \"C:\\\\Users\\\\dvrch\\\\Desktop\\\\Memoire 2024\\\\Straightforward-Obsidian2Latex\\\\Straightforward-Obsidian2Latex-main\\\\example_vault\\\\✍Writing\\\\BIBTEX.bib\"',\n",
       " '3    bloc         le_block.md               \"affich non trouvé\"                     ',\n",
       " '4    blocks_table table blocks              \"affich non trouvé\"                     ',\n",
       " '5    blocks_uation uation blocks             \"C:\\\\Users\\\\dvrch\\\\Desktop\\\\Memoire 2024\\\\Straightforward-Obsidian2Latex\\\\Straightforward-Obsidian2Latex-main\\\\example_vault\\\\✍Writing\\\\equation blocks\"',\n",
       " '6    ecriture     ✍Writ                     \"C:\\\\Users\\\\dvrch\\\\Desktop\\\\Memoire 2024\\\\Straightforward-Obsidian2Latex\\\\Straightforward-Obsidian2Latex-main\\\\example_vault\\\\✍Writing\"',\n",
       " '7    note         noT_DELETE__note          \"C:\\\\Users\\\\dvrch\\\\Desktop\\\\Memoire 2024\\\\Straightforward-Obsidian2Latex\\\\Straightforward-Obsidian2Latex-main\\\\example_vault\\\\DO_NOT_DELETE__note_paths.txt\"',\n",
       " '8    question     quation_bl*ingle.md       \"affich non trouvé\"                     ',\n",
       " '9    valeur       vaut                      \"affich non trouvé\"                     ']"
      ]
     },
     "execution_count": 26,
     "metadata": {},
     "output_type": "execute_result"
    }
   ],
   "source": [
    "[f\"{'N°':<4} {'Clé':<12} {'Motif recherché':<25} {'Chemin trouvé':<40}\",\n",
    "    '-' * 85,\n",
    "    *[f\"{i+1:<4} {cle:<12} {motif:<25} \"\n",
    "        f\"{f'\\\"{chemins[0]}\\\"' if (chemins := recherche_motif(racine, motif)) else '\\\"affich non trouvé\\\"':<40}\"\n",
    "        for i, (cle, motif) in enumerate(motifs_dict.items())]]\n",
    "\n",
    "\n"
   ]
  },
  {
   "cell_type": "code",
   "execution_count": null,
   "metadata": {},
   "outputs": [
    {
     "ename": "IndentationError",
     "evalue": "unexpected indent (<ipython-input-27-95cce26f19bd>, line 3)",
     "output_type": "error",
     "traceback": [
      "\u001b[1;36m  Cell \u001b[1;32mIn[27], line 3\u001b[1;36m\u001b[0m\n\u001b[1;33m    *[f\"{i+1:<4} {cle:<12} {motif:<25} \"\u001b[0m\n\u001b[1;37m    ^\u001b[0m\n\u001b[1;31mIndentationError\u001b[0m\u001b[1;31m:\u001b[0m unexpected indent\n"
     ]
    }
   ],
   "source": [
    "# [   f\"{'N°':<4} {'Clé':<12} {'Motif recherché':<25} {'Chemin trouvé':<40}\",\n",
    "#     '-' * 85,\n",
    "    *[f\"{i+1:<4} {cle:<12} {motif:<25} \"\n",
    "        f\"{f'\\\"{chemins[0]}\\\"' if (chemins := recherche_motif(racine, motif)) else '\\\"affich non trouvé\\\"':<40}\"\n",
    "        for i, (cle, motif) in enumerate(motifs_dict.items())]]\n",
    "\n",
    "\n"
   ]
  },
  {
   "cell_type": "code",
   "execution_count": null,
   "metadata": {},
   "outputs": [
    {
     "ename": "SyntaxError",
     "evalue": "did you forget parentheses around the comprehension target? (<ipython-input-28-8bcce2af8283>, line 2)",
     "output_type": "error",
     "traceback": [
      "\u001b[1;36m  Cell \u001b[1;32mIn[28], line 2\u001b[1;36m\u001b[0m\n\u001b[1;33m    *[f\"{i+1:<4} {cle:<12} {motif:<25} \",\u001b[0m\n\u001b[1;37m      ^\u001b[0m\n\u001b[1;31mSyntaxError\u001b[0m\u001b[1;31m:\u001b[0m did you forget parentheses around the comprehension target?\n"
     ]
    }
   ],
   "source": [
    "[\n",
    "  *[f\"{i+1:<4} {cle:<12} {motif:<25} \",\n",
    "    f\"{f'\\\"{chemins[0]}\\\"' if (chemins := recherche_motif(racine, motif)) else '\\\"affich non trouvé\\\"':<40}\"\n",
    "      for i, (cle, motif) in enumerate(motifs_dict.items())]\n",
    "  # f\"{'N°':<4} {'Clé':<12} {'Motif recherché':<25} {'Chemin trouvé':<40}\",\n",
    "  #   '-' * 85\n",
    "  ]"
   ]
  },
  {
   "cell_type": "code",
   "execution_count": 3,
   "metadata": {},
   "outputs": [
    {
     "ename": "NameError",
     "evalue": "name 'motifs_dict' is not defined",
     "output_type": "error",
     "traceback": [
      "\u001b[1;31m---------------------------------------------------------------------------\u001b[0m",
      "\u001b[1;31mNameError\u001b[0m                                 Traceback (most recent call last)",
      "Cell \u001b[1;32mIn[3], line 5\u001b[0m\n\u001b[0;32m      1\u001b[0m resultats \u001b[38;5;241m=\u001b[39m [\n\u001b[0;32m      2\u001b[0m     \u001b[38;5;241m*\u001b[39m[\n\u001b[0;32m      3\u001b[0m         \u001b[38;5;124mf\u001b[39m\u001b[38;5;124m\"\u001b[39m\u001b[38;5;132;01m{\u001b[39;00mi\u001b[38;5;241m+\u001b[39m\u001b[38;5;241m1\u001b[39m\u001b[38;5;132;01m:\u001b[39;00m\u001b[38;5;124m<4\u001b[39m\u001b[38;5;132;01m}\u001b[39;00m\u001b[38;5;124m \u001b[39m\u001b[38;5;132;01m{\u001b[39;00mcle\u001b[38;5;132;01m:\u001b[39;00m\u001b[38;5;124m<12\u001b[39m\u001b[38;5;132;01m}\u001b[39;00m\u001b[38;5;124m \u001b[39m\u001b[38;5;132;01m{\u001b[39;00mmotif\u001b[38;5;132;01m:\u001b[39;00m\u001b[38;5;124m<25\u001b[39m\u001b[38;5;132;01m}\u001b[39;00m\u001b[38;5;124m \u001b[39m\u001b[38;5;124m\"\u001b[39m\n\u001b[0;32m      4\u001b[0m         \u001b[38;5;124mf\u001b[39m\u001b[38;5;124m\"\u001b[39m\u001b[38;5;132;01m{\u001b[39;00m\u001b[38;5;124mf\u001b[39m\u001b[38;5;124m'\u001b[39m\u001b[38;5;130;01m\\\"\u001b[39;00m\u001b[38;5;132;01m{\u001b[39;00mchemins[\u001b[38;5;241m0\u001b[39m]\u001b[38;5;132;01m}\u001b[39;00m\u001b[38;5;130;01m\\\"\u001b[39;00m\u001b[38;5;124m'\u001b[39m\u001b[38;5;250m \u001b[39m\u001b[38;5;28;01mif\u001b[39;00m\u001b[38;5;250m \u001b[39m(chemins\u001b[38;5;250m \u001b[39m\u001b[38;5;241m:=\u001b[39m\u001b[38;5;250m \u001b[39mrecherche_motif(racine,\u001b[38;5;250m \u001b[39mmotif))\u001b[38;5;250m \u001b[39m\u001b[38;5;28;01melse\u001b[39;00m\u001b[38;5;250m \u001b[39m\u001b[38;5;124m'\u001b[39m\u001b[38;5;130;01m\\\"\u001b[39;00m\u001b[38;5;124maffich non trouvé\u001b[39m\u001b[38;5;130;01m\\\"\u001b[39;00m\u001b[38;5;124m'\u001b[39m\u001b[38;5;132;01m:\u001b[39;00m\u001b[38;5;124m<40\u001b[39m\u001b[38;5;132;01m}\u001b[39;00m\u001b[38;5;124m\"\u001b[39m\n\u001b[1;32m----> 5\u001b[0m         \u001b[38;5;28;01mfor\u001b[39;00m i, (cle, motif) \u001b[38;5;129;01min\u001b[39;00m \u001b[38;5;28menumerate\u001b[39m(\u001b[43mmotifs_dict\u001b[49m\u001b[38;5;241m.\u001b[39mitems())\n\u001b[0;32m      6\u001b[0m     ],\n\u001b[0;32m      7\u001b[0m     \u001b[38;5;124m'\u001b[39m\u001b[38;5;124m-\u001b[39m\u001b[38;5;124m'\u001b[39m \u001b[38;5;241m*\u001b[39m \u001b[38;5;241m85\u001b[39m,\n\u001b[0;32m      8\u001b[0m     \u001b[38;5;124mf\u001b[39m\u001b[38;5;124m\"\u001b[39m\u001b[38;5;132;01m{\u001b[39;00m\u001b[38;5;124m'\u001b[39m\u001b[38;5;124mN°\u001b[39m\u001b[38;5;124m'\u001b[39m\u001b[38;5;132;01m:\u001b[39;00m\u001b[38;5;124m<4\u001b[39m\u001b[38;5;132;01m}\u001b[39;00m\u001b[38;5;124m \u001b[39m\u001b[38;5;132;01m{\u001b[39;00m\u001b[38;5;124m'\u001b[39m\u001b[38;5;124mClé\u001b[39m\u001b[38;5;124m'\u001b[39m\u001b[38;5;132;01m:\u001b[39;00m\u001b[38;5;124m<12\u001b[39m\u001b[38;5;132;01m}\u001b[39;00m\u001b[38;5;124m \u001b[39m\u001b[38;5;132;01m{\u001b[39;00m\u001b[38;5;124m'\u001b[39m\u001b[38;5;124mMotif recherché\u001b[39m\u001b[38;5;124m'\u001b[39m\u001b[38;5;132;01m:\u001b[39;00m\u001b[38;5;124m<25\u001b[39m\u001b[38;5;132;01m}\u001b[39;00m\u001b[38;5;124m \u001b[39m\u001b[38;5;132;01m{\u001b[39;00m\u001b[38;5;124m'\u001b[39m\u001b[38;5;124mChemin trouvé\u001b[39m\u001b[38;5;124m'\u001b[39m\u001b[38;5;132;01m:\u001b[39;00m\u001b[38;5;124m<40\u001b[39m\u001b[38;5;132;01m}\u001b[39;00m\u001b[38;5;124m\"\u001b[39m,\n\u001b[0;32m      9\u001b[0m ]\n",
      "\u001b[1;31mNameError\u001b[0m: name 'motifs_dict' is not defined"
     ]
    }
   ],
   "source": [
    "resultats = [\n",
    "    *[\n",
    "        f\"{i+1:<4} {cle:<12} {motif:<25} \"\n",
    "        f\"{f'\\\"{chemins[0]}\\\"' if (chemins := recherche_motif(racine, motif)) else '\\\"affich non trouvé\\\"':<40}\"\n",
    "        for i, (cle, motif) in enumerate(motifs_dict.items())\n",
    "    ],\n",
    "    '-' * 85,\n",
    "    f\"{'N°':<4} {'Clé':<12} {'Motif recherché':<25} {'Chemin trouvé':<40}\",\n",
    "]\n",
    "\n"
   ]
  },
  {
   "cell_type": "code",
   "execution_count": null,
   "metadata": {},
   "outputs": [
    {
     "data": {
      "text/plain": [
       "[['1    auteur       👨\\u200d💻Aut                    \"C:\\\\Users\\\\dvrch\\\\Desktop\\\\Memoire 2024\\\\Straightforward-Obsidian2Latex\\\\Straightforward-Obsidian2Latex-main\\\\example_vault\\\\👨\\u200d💻Automations\"',\n",
       "  '2    bibtex       BIBT.*\\\\.bib               \"C:\\\\Users\\\\dvrch\\\\Desktop\\\\Memoire 2024\\\\Straightforward-Obsidian2Latex\\\\Straightforward-Obsidian2Latex-main\\\\example_vault\\\\✍Writing\\\\BIBTEX.bib\"',\n",
       "  '3    bloc         le_block.md               \"affich non trouvé\"                     ',\n",
       "  '4    blocks_table table blocks              \"affich non trouvé\"                     ',\n",
       "  '5    blocks_uation uation blocks             \"C:\\\\Users\\\\dvrch\\\\Desktop\\\\Memoire 2024\\\\Straightforward-Obsidian2Latex\\\\Straightforward-Obsidian2Latex-main\\\\example_vault\\\\✍Writing\\\\equation blocks\"',\n",
       "  '6    ecriture     ✍Writ                     \"C:\\\\Users\\\\dvrch\\\\Desktop\\\\Memoire 2024\\\\Straightforward-Obsidian2Latex\\\\Straightforward-Obsidian2Latex-main\\\\example_vault\\\\✍Writing\"',\n",
       "  '7    note         noT_DELETE__note          \"C:\\\\Users\\\\dvrch\\\\Desktop\\\\Memoire 2024\\\\Straightforward-Obsidian2Latex\\\\Straightforward-Obsidian2Latex-main\\\\example_vault\\\\DO_NOT_DELETE__note_paths.txt\"',\n",
       "  '8    question     quation_bl*ingle.md       \"affich non trouvé\"                     ',\n",
       "  '9    valeur       vaut                      \"affich non trouvé\"                     ',\n",
       "  '-------------------------------------------------------------------------------------',\n",
       "  'N°   Clé          Motif recherché           Chemin trouvé                           ']]"
      ]
     },
     "execution_count": 30,
     "metadata": {},
     "output_type": "execute_result"
    }
   ],
   "source": [
    "[resultats]"
   ]
  },
  {
   "cell_type": "code",
   "execution_count": 1,
   "id": "6b5d563c",
   "metadata": {},
   "outputs": [
    {
     "ename": "NameError",
     "evalue": "name 'resultats' is not defined",
     "output_type": "error",
     "traceback": [
      "\u001b[1;31m---------------------------------------------------------------------------\u001b[0m",
      "\u001b[1;31mNameError\u001b[0m                                 Traceback (most recent call last)",
      "Cell \u001b[1;32mIn[1], line 1\u001b[0m\n\u001b[1;32m----> 1\u001b[0m ligne \u001b[38;5;241m=\u001b[39m \u001b[43mresultats\u001b[49m[N\u001b[38;5;241m:=\u001b[39m\u001b[38;5;241m4\u001b[39m\u001b[38;5;241m-\u001b[39m\u001b[38;5;241m1\u001b[39m]  \u001b[38;5;66;03m# +1 car il y a l’en-tête et la séparation\u001b[39;00m\n\u001b[0;32m      2\u001b[0m chemin \u001b[38;5;241m=\u001b[39m ligne\u001b[38;5;241m.\u001b[39msplit(maxsplit\u001b[38;5;241m=\u001b[39m\u001b[38;5;241m3\u001b[39m)[\u001b[38;5;241m3\u001b[39m]\n\u001b[0;32m      3\u001b[0m \u001b[38;5;28mprint\u001b[39m(chemin)\n",
      "\u001b[1;31mNameError\u001b[0m: name 'resultats' is not defined"
     ]
    }
   ],
   "source": [
    "ligne = resultats[N:=4-1]  # +1 car il y a l’en-tête et la séparation\n",
    "chemin = ligne.split(maxsplit=3)[3]\n",
    "print(chemin)"
   ]
  },
  {
   "cell_type": "code",
   "execution_count": null,
   "metadata": {},
   "outputs": [
    {
     "data": {
      "text/plain": [
       "Traceback (most recent call last):\n",
       "  File \"c:\\Users\\dvrch\\.vscode-insiders\\extensions\\ms-python.python-2025.4.0-win32-x64\\python_files\\python_server.py\", line 133, in exec_user_input\n",
       "    retval = callable_(user_input, user_globals)\n",
       "             ^^^^^^^^^^^^^^^^^^^^^^^^^^^^^^^^^^^\n",
       "  File \"<string>\", line 2, in <module>\n",
       "NameError: name 'resultats' is not defined\n",
       "\n"
      ]
     },
     "metadata": {},
     "output_type": "display_data"
    }
   ],
   "source": [
    "N = 4\n",
    "ligne = resultats[N+1]  # +1 car il y a l’en-tête et la séparation\n",
    "chemin = ligne.split(maxsplit=3)[3].strip('\"')\n",
    "print(chemin)\n"
   ]
  },
  {
   "cell_type": "code",
   "execution_count": null,
   "metadata": {},
   "outputs": [
    {
     "name": "stdout",
     "output_type": "stream",
     "text": [
      "blocks              \"affich non trouvé\"                     \n"
     ]
    }
   ],
   "source": [
    "N = 4\n",
    "ligne = resultats[N-1]  # +1 car il y a l’en-tête et la séparation\n",
    "chemin = ligne.split(maxsplit=3)[3].strip('\"')\n",
    "print(chemin)\n"
   ]
  },
  {
   "cell_type": "code",
   "execution_count": null,
   "metadata": {},
   "outputs": [],
   "source": [
    "N = 4\n",
    "ligne = resultats[N-1]  # +1 car il y a l’en-tête et la séparation\n",
    "chemin = ligne.split(maxsplit=3)[3]\n"
   ]
  },
  {
   "cell_type": "code",
   "execution_count": null,
   "metadata": {},
   "outputs": [
    {
     "data": {
      "text/plain": [
       "'blocks              \"affich non trouvé\"                     '"
      ]
     },
     "execution_count": 34,
     "metadata": {},
     "output_type": "execute_result"
    }
   ],
   "source": [
    "import yaml\n",
    "\n",
    "with open(\"fl.yaml\", \"r\", encoding=\"utf-8\") as f:\n",
    "    motifs_dict = yaml.safe_load(f) \n",
    "\n",
    "    "
   ]
  }
 ],
 "metadata": {
  "kernelspec": {
   "display_name": "Python 3",
   "language": "python",
   "name": "python3"
  },
  "language_info": {
   "codemirror_mode": {
    "name": "ipython",
    "version": 3
   },
   "file_extension": ".py",
   "mimetype": "text/x-python",
   "name": "python",
   "nbconvert_exporter": "python",
   "pygments_lexer": "ipython3",
   "version": "3.12.3"
  }
 },
 "nbformat": 4,
 "nbformat_minor": 5
}
